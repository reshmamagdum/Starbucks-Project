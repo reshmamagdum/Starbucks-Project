version https://git-lfs.github.com/spec/v1
oid sha256:b3c9c055bcacc968f4e7c85bc2de57747a3f2b0b5542d292f2009dbcb30be9a4
size 424809
