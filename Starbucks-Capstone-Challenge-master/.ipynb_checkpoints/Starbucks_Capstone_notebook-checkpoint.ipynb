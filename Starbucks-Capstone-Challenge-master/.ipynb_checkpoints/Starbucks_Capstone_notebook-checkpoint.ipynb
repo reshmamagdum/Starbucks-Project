version https://git-lfs.github.com/spec/v1
oid sha256:03133fc01217fed2810a0a692cdf8435e359d4ba3f1d800b697ecf81f5211aa5
size 422857
